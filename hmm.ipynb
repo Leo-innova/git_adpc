{
 "cells": [
  {
   "cell_type": "markdown",
   "id": "3249ab35-bc08-416a-ae00-9be2a232cd33",
   "metadata": {},
   "source": [
    "CREATION DES HMM"
   ]
  },
  {
   "cell_type": "code",
   "execution_count": 10,
   "id": "b6ecebb3-5301-4046-9d74-55f9d9222bb5",
   "metadata": {},
   "outputs": [
    {
     "name": "stdout",
     "output_type": "stream",
     "text": [
      "object\n"
     ]
    },
    {
     "data": {
      "text/plain": [
       "'\\n# Create a dictionary to store each device with its HMM model and parameters\\nappliances_dict = {}\\n\\n# Modeling each appliance with GaussianHMM\\nfor i, appliance in enumerate(appliances):\\n    # Create an fit the HMM model\\n    model = GaussianHMM(n_components=num_states[i], covariance_type=\"full\").fit(np.array(sequence[i]).reshape(-1, 1))\\n    \\n    # Determine starting probabilities as a function of the number of states\\n    startprob = np.array([1/num_states[i]]*num_states[i])\\n        \\n    # Store HMM model with parameters in appliances dictionnary\\n    appliances_dict[appliance] = {\\n        \"model\": model, \\n        \"startprob\": startprob, \\n        \"transmat\": model.transmat_.tolist(), \\n        \"means\": model.means_.tolist(),\\n        \"covars\": model.covars_.tolist()\\n    }\\n\\n\\n# Open a CSV file in write mode\\nwith open(\\'hmm_parameters.csv\\', \\'w\\', newline=\\'\\') as csvfile:\\n    # Create a CSV writer\\n    writer = csv.writer(csvfile)\\n    \\n    # Write the header row\\n    writer.writerow([\"Appliance\", \"Startprob\", \"Transmat\", \"Means\", \"Covars\"])\\n    \\n    # Write the data rows\\n    for appliance, data in appliances_dict.items():\\n        writer.writerow([appliance, data[\"startprob\"], data[\"transmat\"], data[\"means\"], data[\"covars\"]])\\n\\n\\n# Display appliances with their HMM model and parameters\\nfor appliance, data in appliances_dict.items():\\n    print(f\"Appliance :{appliance}\")    \\n    print(\"HMM model:\")\\n    print(data[\"model\"])\\n    print(\"Initial prob_:\")\\n    print(data[\"startprob\"])\\n    print(\"Transition_mat:\")\\n    print(data[\"transmat\"])\\n    print(\"Emission_means:\")\\n    print(data[\"means\"])\\n    print(\"Emission_covars:\")\\n    print(data[\"covars\"])\\n    print()\\n'"
      ]
     },
     "execution_count": 10,
     "metadata": {},
     "output_type": "execute_result"
    }
   ],
   "source": [
    "# Import librairies\n",
    "import csv\n",
    "import numpy as np \n",
    "import pandas as pd \n",
    "from hmmlearn.hmm import GaussianHMM\n",
    "\n",
    "\n",
    "# Load data from csv file \n",
    "data = pd.read_csv(\"results.csv\")\n",
    "\n",
    "# Retrieve the necessary columns\n",
    "appliances = data[\"Device\"]\n",
    "sequence = data[\"power_sequence\"]\n",
    "num_states = data[\"num_working_states\"]\n",
    "\n",
    "print(data[\"power_sequence\"].dtype)\n",
    "\n",
    "# Create a dictionary to store each device with its HMM model and parameters\n",
    "appliances_dict = {}\n",
    "\n",
    "# Modeling each appliance with GaussianHMM\n",
    "for i, appliance in enumerate(appliances):\n",
    "    # Create an fit the HMM model\n",
    "    model = GaussianHMM(n_components=num_states[i], covariance_type=\"full\").fit(np.array(sequence[i]).reshape(-1, 1))\n",
    "    \n",
    "    # Determine starting probabilities as a function of the number of states\n",
    "    startprob = np.array([1/num_states[i]]*num_states[i])\n",
    "        \n",
    "    # Store HMM model with parameters in appliances dictionnary\n",
    "    appliances_dict[appliance] = {\n",
    "        \"model\": model, \n",
    "        \"startprob\": startprob, \n",
    "        \"transmat\": model.transmat_.tolist(), \n",
    "        \"means\": model.means_.tolist(),\n",
    "        \"covars\": model.covars_.tolist()\n",
    "    }\n",
    "\n",
    "\n",
    "# Open a CSV file in write mode\n",
    "with open('hmm_parameters.csv', 'w', newline='') as csvfile:\n",
    "    # Create a CSV writer\n",
    "    writer = csv.writer(csvfile)\n",
    "    \n",
    "    # Write the header row\n",
    "    writer.writerow([\"Appliance\", \"Startprob\", \"Transmat\", \"Means\", \"Covars\"])\n",
    "    \n",
    "    # Write the data rows\n",
    "    for appliance, data in appliances_dict.items():\n",
    "        writer.writerow([appliance, data[\"startprob\"], data[\"transmat\"], data[\"means\"], data[\"covars\"]])\n",
    "\n",
    "\n",
    "# Display appliances with their HMM model and parameters\n",
    "for appliance, data in appliances_dict.items():\n",
    "    print(f\"Appliance :{appliance}\")    \n",
    "    print(\"HMM model:\")\n",
    "    print(data[\"model\"])\n",
    "    print(\"Initial prob_:\")\n",
    "    print(data[\"startprob\"])\n",
    "    print(\"Transition_mat:\")\n",
    "    print(data[\"transmat\"])\n",
    "    print(\"Emission_means:\")\n",
    "    print(data[\"means\"])\n",
    "    print(\"Emission_covars:\")\n",
    "    print(data[\"covars\"])\n",
    "    print()"
   ]
  },
  {
   "cell_type": "code",
   "execution_count": null,
   "id": "13c3a6e1-da2a-45a8-875c-4626baed9c1e",
   "metadata": {},
   "outputs": [],
   "source": []
  }
 ],
 "metadata": {
  "kernelspec": {
   "display_name": "Python 3 (ipykernel)",
   "language": "python",
   "name": "python3"
  },
  "language_info": {
   "codemirror_mode": {
    "name": "ipython",
    "version": 3
   },
   "file_extension": ".py",
   "mimetype": "text/x-python",
   "name": "python",
   "nbconvert_exporter": "python",
   "pygments_lexer": "ipython3",
   "version": "3.9.12"
  }
 },
 "nbformat": 4,
 "nbformat_minor": 5
}
