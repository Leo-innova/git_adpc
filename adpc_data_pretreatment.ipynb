{
 "cells": [
  {
   "cell_type": "markdown",
   "id": "893ddc18-1100-4f8a-a149-46b4cf68ec23",
   "metadata": {},
   "source": [
    "REDUCTION DU NOMBRE DE LIGNES DES DIFFERENTS DATASETS"
   ]
  },
  {
   "cell_type": "code",
   "execution_count": null,
   "id": "56f8a236-43aa-4f03-a70d-b4071b4a55ae",
   "metadata": {},
   "outputs": [],
   "source": [
    "import pandas as pd\n",
    "\n",
    "# Liste des noms de fichiers avec les initiales suivies du chiffre dans leur nom\n",
    "noms_fichiers = ['boiler_226.csv', 'computer_44.csv', 'dishwasher_53.csv', 'dryer_219.csv', 'fridge_284.csv', 'laptop_289.csv', 'tv_290.csv', 'vacuum_236.csv', 'washing_machine_343.csv']\n",
    "\n",
    "# Nombre d'observations cibles pour chaque fichier\n",
    "nombre_observation_cible = 2000\n",
    "\n",
    "# Boucle sur chaque fichier CSV dans la liste\n",
    "for nom_fichier in noms_fichiers:\n",
    "    # Extraire les initiales du fichier de base\n",
    "    initiales = ''.join([mot[0] for mot in nom_fichier.split('.')[:-1]])\n",
    "\n",
    "    # Extraire le chiffre du nom de fichier\n",
    "    chiffre = ''.join(filter(str.isdigit, nom_fichier))\n",
    "\n",
    "    # Charger le fichier CSV\n",
    "    df = pd.read_csv(nom_fichier)\n",
    "\n",
    "    # Convertir la colonne 'timestamp' en type datetime\n",
    "    df['timestamp'] = pd.to_datetime(df['timestamp'])\n",
    "\n",
    "    # Trier le DataFrame par ordre chronologique\n",
    "    df_sorted = df.sort_values(by='timestamp')\n",
    "\n",
    "    # Récupérer toutes les valeurs uniques de la colonne 'power'\n",
    "    valeurs_uniques = df_sorted['power'].unique()\n",
    "\n",
    "    # Calculer le nombre d'occurrences de chaque valeur\n",
    "    occurrences_par_valeur = df_sorted['power'].value_counts()\n",
    "\n",
    "    # Créer une liste pour stocker les lignes sélectionnées\n",
    "    lignes_selectionnees = []\n",
    "\n",
    "    # Boucler sur chaque valeur unique et ajouter un nombre approprié de lignes à la liste\n",
    "    for valeur in valeurs_uniques:\n",
    "        lignes = df_sorted[df_sorted['power'] == valeur].sample(min(occurrences_par_valeur[valeur], nombre_observation_cible // len(valeurs_uniques)))\n",
    "        lignes_selectionnees.append(lignes)\n",
    "\n",
    "    # Concaténer les lignes sélectionnées en un seul DataFrame\n",
    "    df_echantillon = pd.concat(lignes_selectionnees)\n",
    "\n",
    "    # Si le nombre d'observations est inférieur à 2000, échantillonner aléatoirement davantage de lignes\n",
    "    if len(df_echantillon) < nombre_observation_cible:\n",
    "        df_echantillon = pd.concat([df_echantillon, df_sorted.sample(n=nombre_observation_cible-len(df_echantillon))])\n",
    "\n",
    "    # Réinitialiser l'index pour avoir une nouvelle indexation à partir de 0\n",
    "    df_echantillon = df_echantillon.reset_index(drop=True)\n",
    "\n",
    "    # Spécifier le nom du nouveau fichier CSV\n",
    "    nom_nouveau_fichier = initiales + '_' + chiffre + '_reduits.csv'\n",
    "\n",
    "    # Écrire les données échantillonnées dans le nouveau fichier CSV\n",
    "    df_echantillon.to_csv(nom_nouveau_fichier, index=False)\n",
    "\n",
    "    print(\"Les données échantillonnées ont été écrites dans\", nom_nouveau_fichier)\n"
   ]
  }
 ],
 "metadata": {
  "kernelspec": {
   "display_name": "Python 3 (ipykernel)",
   "language": "python",
   "name": "python3"
  },
  "language_info": {
   "codemirror_mode": {
    "name": "ipython",
    "version": 3
   },
   "file_extension": ".py",
   "mimetype": "text/x-python",
   "name": "python",
   "nbconvert_exporter": "python",
   "pygments_lexer": "ipython3",
   "version": "3.9.12"
  }
 },
 "nbformat": 4,
 "nbformat_minor": 5
}
